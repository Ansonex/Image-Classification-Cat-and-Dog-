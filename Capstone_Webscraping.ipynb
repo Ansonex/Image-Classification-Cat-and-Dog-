{
 "cells": [
  {
   "cell_type": "code",
   "execution_count": null,
   "metadata": {},
   "outputs": [],
   "source": [
    "import os\n",
    "import selenium\n",
    "from selenium import webdriver \n",
    "import base64\n",
    "import time\n",
    "import urllib.request\n",
    "from selenium import webdriver\n",
    "from webdriver_manager.chrome import ChromeDriverManager\n",
    "from selenium.webdriver.common.by import By\n",
    "from selenium.webdriver.common.keys import Keys"
   ]
  },
  {
   "cell_type": "code",
   "execution_count": null,
   "metadata": {},
   "outputs": [],
   "source": [
    "SAVE_FOLDER = 'C:/Users/Anson/OneDrive/Desktop/Capstone_Project/'\n",
    "\n",
    "GOOGLE_IMAGES = 'https://www.masterfile.com/search/en/kitty%20face%20front%20view'\n",
    "\n",
    "\n",
    "driver = webdriver.Chrome(ChromeDriverManager().install())\n",
    "driver.get(GOOGLE_IMAGES)"
   ]
  },
  {
   "cell_type": "code",
   "execution_count": null,
   "metadata": {},
   "outputs": [],
   "source": [
    "# Scroll to the end of the page\n",
    "def scroll_to_end():\n",
    "    driver.execute_script(\"window.scrollTo(0, document.body.scrollHeight);\")\n",
    "    time.sleep(8)\n",
    "    print('scroll done')\n",
    "\n",
    "counter = 0\n",
    "for i in range(1,10):     \n",
    "    scroll_to_end()\n",
    "    image_elements = driver.find_elements_by_class_name('thumbImg')\n",
    "    print(len(image_elements))\n",
    "    for image in image_elements: \n",
    "        if (image.get_attribute('src') is not None):\n",
    "            my_image = image.get_attribute('src').split('data:image/jpeg;base64,')\n",
    "            filename = SAVE_FOLDER + 'dog00'+str(counter)+'.jpeg'\n",
    "            if(len(my_image) >1): \n",
    "                with open(filename, 'wb') as f: \n",
    "                    f.write(base64.b64decode(my_image[1]))\n",
    "            else: \n",
    "                print(image.get_attribute('src'))\n",
    "                urllib.request.urlretrieve(image.get_attribute('src'), SAVE_FOLDER + 'dog00'+ str(counter)+'.jpeg')\n",
    "            counter += 1"
   ]
  }
 ],
 "metadata": {
  "kernelspec": {
   "display_name": "Python 3.10.4 ('numpy_lab')",
   "language": "python",
   "name": "python3"
  },
  "language_info": {
   "codemirror_mode": {
    "name": "ipython",
    "version": 3
   },
   "file_extension": ".py",
   "mimetype": "text/x-python",
   "name": "python",
   "nbconvert_exporter": "python",
   "pygments_lexer": "ipython3",
   "version": "3.10.4"
  },
  "orig_nbformat": 4,
  "vscode": {
   "interpreter": {
    "hash": "7034716bc969b472c2700ec56d5a2cec0984fbd8d9639c37fdd89b00650a83cf"
   }
  }
 },
 "nbformat": 4,
 "nbformat_minor": 2
}
